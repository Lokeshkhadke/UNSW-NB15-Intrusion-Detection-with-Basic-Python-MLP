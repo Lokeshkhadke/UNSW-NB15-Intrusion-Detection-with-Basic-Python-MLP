{
  "nbformat": 4,
  "nbformat_minor": 0,
  "metadata": {
    "colab": {
      "provenance": []
    },
    "kernelspec": {
      "name": "python3",
      "display_name": "Python 3"
    },
    "language_info": {
      "name": "python"
    }
  },
  "cells": [
    {
      "cell_type": "markdown",
      "source": [
        "**TASK 0: LOAD CSV**"
      ],
      "metadata": {
        "id": "eNF71-1GvbE-"
      }
    },
    {
      "cell_type": "code",
      "source": [
        "#importing necessary dependencies and libraries.\n",
        "import numpy as np\n",
        "import pandas as pd\n",
        "import math\n",
        "from collections import Counter\n",
        "\n",
        "def load_data(filename):\n",
        "    \"\"\"Load CSV data into a pandas DataFrame\"\"\"\n",
        "    return pd.read_csv(filename)\n",
        "\n",
        "# Loading the datasets\n",
        "training_data = load_data('UNSWNB15_training.csv')\n",
        "testing1_data = load_data('UNSWNB15_testing1.csv')\n",
        "testing2_data = load_data('UNSWNB15_testing2_no_label.csv')\n",
        "\n",
        "# Display basic info about the datasets for initial exploration\n",
        "print(\"Training data shape:\", training_data.shape)\n",
        "print(\"Testing1 data shape:\", testing1_data.shape)\n",
        "print(\"Testing2 data shape:\", testing2_data.shape)\n",
        "print(\"\\nTraining data columns:\", training_data.columns.tolist())\n",
        "\n",
        "# Display the first two rows of training data\n",
        "print(\"\\nTraining data sample:\")\n",
        "print(training_data.head(2))"
      ],
      "metadata": {
        "colab": {
          "base_uri": "https://localhost:8080/"
        },
        "id": "QDMsoHlPN29U",
        "outputId": "6313cce3-1667-45bd-884a-c6909b7fde74"
      },
      "execution_count": 6,
      "outputs": [
        {
          "output_type": "stream",
          "name": "stdout",
          "text": [
            "Training data shape: (20000, 44)\n",
            "Testing1 data shape: (4000, 44)\n",
            "Testing2 data shape: (25, 43)\n",
            "\n",
            "Training data columns: ['id', 'dur', 'proto', 'service', 'state', 'spkts', 'dpkts', 'sbytes', 'dbytes', 'rate', 'sttl', 'dttl', 'sload', 'dload', 'sloss', 'dloss', 'sinpkt', 'dinpkt', 'sjit', 'djit', 'swin', 'stcpb', 'dtcpb', 'dwin', 'tcprtt', 'synack', 'ackdat', 'smean', 'dmean', 'trans_depth', 'response_body_len', 'ct_srv_src', 'ct_state_ttl', 'ct_dst_ltm', 'ct_src_dport_ltm', 'ct_dst_sport_ltm', 'ct_dst_src_ltm', 'is_ftp_login', 'ct_ftp_cmd', 'ct_flw_http_mthd', 'ct_src_ltm', 'ct_srv_dst', 'is_sm_ips_ports', 'label']\n",
            "\n",
            "Training data sample:\n",
            "   id       dur proto service state  spkts  dpkts  sbytes  dbytes  \\\n",
            "0   1  0.000003  unas       -   INT      2      0     200       0   \n",
            "1   2  0.885807   tcp     ftp   FIN     52     54    2934    3742   \n",
            "\n",
            "            rate  ...  ct_src_dport_ltm  ct_dst_sport_ltm  ct_dst_src_ltm  \\\n",
            "0  333333.321500  ...                 4                 4               5   \n",
            "1     118.535982  ...                 1                 1               3   \n",
            "\n",
            "   is_ftp_login  ct_ftp_cmd  ct_flw_http_mthd  ct_src_ltm  ct_srv_dst  \\\n",
            "0             0           0                 0           8          11   \n",
            "1             1           1                 0           5           1   \n",
            "\n",
            "   is_sm_ips_ports  label  \n",
            "0                0      1  \n",
            "1                0      0  \n",
            "\n",
            "[2 rows x 44 columns]\n"
          ]
        }
      ]
    },
    {
      "cell_type": "markdown",
      "source": [
        "**TASK 1: DATA PRE-PROCESSING**"
      ],
      "metadata": {
        "id": "VQf7FM19vzjl"
      }
    },
    {
      "cell_type": "code",
      "source": [
        "def preprocess_data(data, is_training=True, cat_encoders=None, num_scalers=None):\n",
        "    \"\"\"\n",
        "    Preprocess the data by:\n",
        "    1. Encoding categorical variables (Label encoding)\n",
        "    2. Scaling numerical features (min-max normalization)\n",
        "    3. Separating features and labels (for training and testing1)\n",
        "    \"\"\"\n",
        "\n",
        "    # Make a copy to avoid modifying original data\n",
        "    processed = data.copy()\n",
        "\n",
        "    # Identify categorical and numerical columns\n",
        "    categorical_cols = ['proto', 'service', 'state']  # Given\n",
        "    numerical_cols = [col for col in processed.columns\n",
        "                     if col not in categorical_cols + ['label']\n",
        "                     and processed[col].dtype in ['int64', 'float64']]\n",
        "\n",
        "    # 1. Encode categorical variables (label encoding)\n",
        "    if is_training:\n",
        "        # For training data, create encoders\n",
        "        cat_encoders = {}  # Stores mappings for proto/service/state\n",
        "        for col in categorical_cols:\n",
        "           # Assign unique integers to each category (e.g., 'tcp':0, 'udp':1)\n",
        "            categories = processed[col].unique()\n",
        "            cat_encoders[col] = {cat: i for i, cat in enumerate(categories)}\n",
        "\n",
        "        # Apply encoding\n",
        "        for col in categorical_cols:\n",
        "            processed[col] = processed[col].map(cat_encoders[col])\n",
        "    else:\n",
        "        # For test data, use existing encoders\n",
        "        for col in categorical_cols:\n",
        "            # Map known categories, assign -1 to unknown categories (shouldn't happen with proper train/test split)\n",
        "            processed[col] = processed[col].apply(lambda x: cat_encoders[col].get(x, -1))\n",
        "\n",
        "    # 2. Scale numerical features\n",
        "    if is_training:\n",
        "        # For training data, compute min and max\n",
        "        num_scalers = {}\n",
        "        for col in numerical_cols:\n",
        "            min_val = processed[col].min()\n",
        "            max_val = processed[col].max()\n",
        "            num_scalers[col] = {'min': min_val, 'max': max_val}\n",
        "            # Avoid division by zero in case max == min\n",
        "            if max_val != min_val:\n",
        "                processed[col] = (processed[col] - min_val) / (max_val - min_val)\n",
        "            else:\n",
        "                processed[col] = 0  # Handle constant features\n",
        "    else:\n",
        "        # For test data, use existing scalers\n",
        "        for col in numerical_cols:\n",
        "            min_val = num_scalers[col]['min']\n",
        "            max_val = num_scalers[col]['max']\n",
        "            if max_val != min_val:\n",
        "                processed[col] = (processed[col] - min_val) / (max_val - min_val)\n",
        "            else:\n",
        "                processed[col] = 0\n",
        "\n",
        "    # 3. Separate features and labels if labels exist\n",
        "    if 'label' in processed.columns:\n",
        "        X = processed.drop('label', axis=1).values\n",
        "        y = processed['label'].values\n",
        "        return X, y, cat_encoders, num_scalers\n",
        "    else:\n",
        "        X = processed.values\n",
        "        return X, None, cat_encoders, num_scalers\n",
        "\n",
        "# Preprocess training data\n",
        "X_train, y_train, cat_encoders, num_scalers = preprocess_data(training_data, is_training=True)\n",
        "\n",
        "# Preprocess testing1 data\n",
        "X_test1, y_test1, _, _ = preprocess_data(testing1_data, is_training=False,\n",
        "                                        cat_encoders=cat_encoders, num_scalers=num_scalers)\n",
        "\n",
        "# Preprocess testing2 data\n",
        "X_test2, _, _, _ = preprocess_data(testing2_data, is_training=False,\n",
        "                                 cat_encoders=cat_encoders, num_scalers=num_scalers)\n",
        "\n",
        "print(\"\\nPreprocessing complete.\")\n",
        "print(\"Training data shape after preprocessing:\", X_train.shape)\n",
        "print(\"Testing1 data shape after preprocessing:\", X_test1.shape)\n",
        "print(\"Testing2 data shape after preprocessing:\", X_test2.shape)"
      ],
      "metadata": {
        "colab": {
          "base_uri": "https://localhost:8080/"
        },
        "id": "bisW81_MN2_r",
        "outputId": "81be4dfc-4d5c-45e1-f4bf-9752238cc8d5"
      },
      "execution_count": 3,
      "outputs": [
        {
          "output_type": "stream",
          "name": "stdout",
          "text": [
            "\n",
            "Preprocessing complete.\n",
            "Training data shape after preprocessing: (20000, 43)\n",
            "Testing1 data shape after preprocessing: (4000, 43)\n",
            "Testing2 data shape after preprocessing: (25, 43)\n"
          ]
        }
      ]
    },
    {
      "cell_type": "markdown",
      "source": [
        "**TASK2: MODEL IMPLEMENTATION AND TRAINING**"
      ],
      "metadata": {
        "id": "j3XfViAGxnb2"
      }
    },
    {
      "cell_type": "code",
      "source": [
        "class MLP:\n",
        "    \"\"\"Implementation of a Multi-Layer Perceptron from scratch\"\"\"\n",
        "\n",
        "    def __init__(self, input_size, hidden_sizes, output_size):\n",
        "        \"\"\"Initialize weights and biases\"\"\"\n",
        "        self.layer_sizes = [input_size] + hidden_sizes + [output_size]\n",
        "        self.weights = []\n",
        "        self.biases = []\n",
        "\n",
        "        # Initialize weights with He initialization and biases to zeros\n",
        "        for i in range(len(self.layer_sizes)-1):\n",
        "            # He initialization: scale by sqrt(2/n) where n is input size\n",
        "            scale = np.sqrt(2.0 / self.layer_sizes[i])   # layer_sizes[i] = input dimension\n",
        "            self.weights.append(np.random.randn(self.layer_sizes[i], self.layer_sizes[i+1]) * scale)\n",
        "            self.biases.append(np.zeros((1, self.layer_sizes[i+1])))\n",
        "\n",
        "    def sigmoid(self, x):\n",
        "        \"\"\"Sigmoid activation function\"\"\"\n",
        "        return 1 / (1 + np.exp(-x))\n",
        "\n",
        "    def sigmoid_derivative(self, x):\n",
        "        \"\"\"Derivative of sigmoid function\"\"\"\n",
        "        return x * (1 - x)\n",
        "\n",
        "    def relu(self, x):\n",
        "        \"\"\"ReLU activation function\"\"\"\n",
        "        return np.maximum(0, x)\n",
        "\n",
        "    def relu_derivative(self, x):\n",
        "        \"\"\"Derivative of ReLU function\"\"\"\n",
        "        return (x > 0).astype(float)\n",
        "\n",
        "    def forward(self, x):\n",
        "        \"\"\"Forward pass through the network\"\"\"\n",
        "        self.activations = [x]\n",
        "        self.z_values = []\n",
        "\n",
        "        # Hidden layers (use ReLU)\n",
        "        for i in range(len(self.weights)-1):\n",
        "            z = np.dot(self.activations[-1], self.weights[i]) + self.biases[i]\n",
        "            self.z_values.append(z)\n",
        "            self.activations.append(self.relu(z))\n",
        "\n",
        "        # Output layer (use sigmoid for binary classification)\n",
        "        z = np.dot(self.activations[-1], self.weights[-1]) + self.biases[-1]\n",
        "        self.z_values.append(z)\n",
        "        self.activations.append(self.sigmoid(z))\n",
        "\n",
        "        return self.activations[-1]\n",
        "\n",
        "    def backward(self, x, y, learning_rate):\n",
        "        \"\"\"Backward pass (backpropagation)\"\"\"\n",
        "        m = x.shape[0]  # number of samples\n",
        "\n",
        "        # Calculate output error\n",
        "        error = self.activations[-1] - y.reshape(-1, 1)\n",
        "        dZ = error * self.sigmoid_derivative(self.activations[-1])\n",
        "\n",
        "        # Initialize lists to store gradients\n",
        "        dW = [None] * len(self.weights)\n",
        "        db = [None] * len(self.biases)\n",
        "\n",
        "        # Gradient for output layer\n",
        "        dW[-1] = np.dot(self.activations[-2].T, dZ) / m\n",
        "        db[-1] = np.sum(dZ, axis=0, keepdims=True) / m\n",
        "\n",
        "        # Backpropagate through hidden layers\n",
        "        for l in range(len(self.weights)-2, -1, -1):     # Reverse order (output to input)\n",
        "            dA = np.dot(dZ, self.weights[l+1].T)         # Error from next layer\n",
        "            dZ = dA * self.relu_derivative(self.activations[l+1])   # Apply ReLU gradient\n",
        "            dW[l] = np.dot(self.activations[l].T, dZ) / m\n",
        "            db[l] = np.sum(dZ, axis=0, keepdims=True) / m\n",
        "\n",
        "        # Update weights and biases\n",
        "        for l in range(len(self.weights)):\n",
        "            self.weights[l] -= learning_rate * dW[l]\n",
        "            self.biases[l] -= learning_rate * db[l]\n",
        "\n",
        "    def train(self, X, y, epochs, learning_rate, batch_size=32, verbose=True):\n",
        "        \"\"\"Train the MLP\"\"\"\n",
        "        losses = []\n",
        "        for epoch in range(epochs):\n",
        "            # Mini-batch training\n",
        "            for i in range(0, X.shape[0], batch_size):\n",
        "                X_batch = X[i:i+batch_size]\n",
        "                y_batch = y[i:i+batch_size]\n",
        "\n",
        "                # Forward and backward pass\n",
        "                self.forward(X_batch)\n",
        "                self.backward(X_batch, y_batch, learning_rate)\n",
        "\n",
        "            # Calculate loss for the entire dataset\n",
        "            y_pred = self.forward(X)\n",
        "            loss = self.binary_cross_entropy(y, y_pred)\n",
        "            losses.append(loss)\n",
        "\n",
        "            if verbose and (epoch % 10 == 0 or epoch == epochs-1):\n",
        "                print(f\"Epoch {epoch}, Loss: {loss:.4f}\")\n",
        "\n",
        "        return losses\n",
        "\n",
        "    def binary_cross_entropy(self, y_true, y_pred):\n",
        "        \"\"\"Calculate binary cross-entropy loss\"\"\"\n",
        "        epsilon = 1e-15  # to avoid log(0)\n",
        "        y_pred = np.clip(y_pred, epsilon, 1 - epsilon)\n",
        "        return -np.mean(y_true * np.log(y_pred) + (1 - y_true) * np.log(1 - y_pred))\n",
        "\n",
        "    def predict(self, X, threshold=0.5):\n",
        "        \"\"\"Make predictions\"\"\"\n",
        "        y_prob = self.forward(X)\n",
        "        return (y_prob > threshold).astype(int)\n",
        "\n",
        "    def evaluate(self, X, y):\n",
        "        \"\"\"Evaluate model performance\"\"\"\n",
        "        y_pred = self.predict(X)\n",
        "        accuracy = np.mean(y_pred.flatten() == y)\n",
        "        return accuracy\n",
        "\n",
        "# Initialize and train the MLP\n",
        "input_size = X_train.shape[1]\n",
        "hidden_sizes = [64, 32]  # Two hidden layers\n",
        "output_size = 1\n",
        "\n",
        "mlp = MLP(input_size, hidden_sizes, output_size)\n",
        "\n",
        "print(\"\\nTraining MLP...\")\n",
        "losses = mlp.train(X_train, y_train, epochs=50, learning_rate=0.01, batch_size=64)\n",
        "\n",
        "# Plot training loss\n",
        "import matplotlib.pyplot as plt\n",
        "plt.plot(losses)\n",
        "plt.xlabel('Epoch')\n",
        "plt.ylabel('Loss')\n",
        "plt.title('Training Loss')\n",
        "plt.show()"
      ],
      "metadata": {
        "colab": {
          "base_uri": "https://localhost:8080/",
          "height": 611
        },
        "id": "sHsQ0mnMN3B_",
        "outputId": "d739a219-e3a2-4732-d4c3-4296e07e5936"
      },
      "execution_count": 4,
      "outputs": [
        {
          "output_type": "stream",
          "name": "stdout",
          "text": [
            "\n",
            "Training MLP...\n",
            "Epoch 0, Loss: 0.9114\n",
            "Epoch 10, Loss: 1.1037\n",
            "Epoch 20, Loss: 1.2274\n",
            "Epoch 30, Loss: 1.3229\n",
            "Epoch 40, Loss: 1.4177\n",
            "Epoch 49, Loss: 1.5052\n"
          ]
        },
        {
          "output_type": "display_data",
          "data": {
            "text/plain": [
              "<Figure size 640x480 with 1 Axes>"
            ],
            "image/png": "[encoded data removed]"
          },
          "metadata": {}
        }
      ]
    },
    {
      "cell_type": "markdown",
      "source": [
        "**TASK 3: MODEL PERFORMANCE EVALUATION**"
      ],
      "metadata": {
        "id": "M4BFEHByxvEz"
      }
    },
    {
      "cell_type": "code",
      "source": [
        "def calculate_metrics(y_true, y_pred):\n",
        "    \"\"\"Calculate various performance metrics\"\"\"\n",
        "    tp = np.sum((y_pred == 1) & (y_true == 1))\n",
        "    tn = np.sum((y_pred == 0) & (y_true == 0))\n",
        "    fp = np.sum((y_pred == 1) & (y_true == 0))\n",
        "    fn = np.sum((y_pred == 0) & (y_true == 1))\n",
        "\n",
        "    accuracy = (tp + tn) / (tp + tn + fp + fn)\n",
        "    precision = tp / (tp + fp) if (tp + fp) > 0 else 0\n",
        "    recall = tp / (tp + fn) if (tp + fn) > 0 else 0\n",
        "    f1 = 2 * (precision * recall) / (precision + recall) if (precision + recall) > 0 else 0\n",
        "\n",
        "    return {\n",
        "        'accuracy': accuracy,\n",
        "        'precision': precision,\n",
        "        'recall': recall,\n",
        "        'f1_score': f1,\n",
        "        'confusion_matrix': np.array([[tn, fp], [fn, tp]])\n",
        "    }\n",
        "\n",
        "# Evaluate on testing set 1\n",
        "y_pred_test1 = mlp.predict(X_test1).flatten()\n",
        "metrics = calculate_metrics(y_test1, y_pred_test1)\n",
        "\n",
        "print(\"\\nPerformance on Testing Set 1:\")\n",
        "print(f\"Accuracy: {metrics['accuracy']:.4f}\")\n",
        "print(f\"Precision: {metrics['precision']:.4f}\")\n",
        "print(f\"Recall: {metrics['recall']:.4f}\")\n",
        "print(f\"F1 Score: {metrics['f1_score']:.4f}\")\n",
        "print(\"Confusion Matrix:\")\n",
        "print(metrics['confusion_matrix'])\n",
        "\n",
        "# Predict labels for testing set 2\n",
        "y_pred_test2 = mlp.predict(X_test2).flatten()\n",
        "\n",
        "print(\"\\nPredictions for Testing Set 2:\")\n",
        "print(y_pred_test2)\n"
      ],
      "metadata": {
        "colab": {
          "base_uri": "https://localhost:8080/"
        },
        "id": "mWetpe3jN3Fd",
        "outputId": "5c14729f-cf1b-4dfd-a99f-1fe92a0ea25e"
      },
      "execution_count": 5,
      "outputs": [
        {
          "output_type": "stream",
          "name": "stdout",
          "text": [
            "\n",
            "Performance on Testing Set 1:\n",
            "Accuracy: 0.8880\n",
            "Precision: 0.9640\n",
            "Recall: 0.8659\n",
            "F1 Score: 0.9123\n",
            "Confusion Matrix:\n",
            "[[1221   87]\n",
            " [ 361 2331]]\n",
            "\n",
            "Predictions for Testing Set 2:\n",
            "[1 0 1 1 0 0 0 0 0 0 0 1 1 1 1 0 1 1 0 1 1 1 0 1 1]\n"
          ]
        }
      ]
    },
    {
      "cell_type": "markdown",
      "source": [],
      "metadata": {
        "id": "D0xMm3FnQbMz"
      }
    }
  ]
}